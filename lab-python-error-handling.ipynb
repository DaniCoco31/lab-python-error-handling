{
 "cells": [
  {
   "cell_type": "markdown",
   "id": "25d7736c-ba17-4aff-b6bb-66eba20fbf4e",
   "metadata": {},
   "source": [
    "# Lab | Error Handling"
   ]
  },
  {
   "cell_type": "markdown",
   "id": "bc99b386-7508-47a0-bcdb-d969deaf6c8b",
   "metadata": {},
   "source": [
    "## Exercise: Error Handling for Managing Customer Orders\n",
    "\n",
    "The implementation of your code for managing customer orders assumes that the user will always enter a valid input. \n",
    "\n",
    "For example, we could modify the `initialize_inventory` function to include error handling.\n",
    "   - If the user enters an invalid quantity (e.g., a negative value or a non-numeric value), display an error message and ask them to re-enter the quantity for that product.\n",
    "   - Use a try-except block to handle the error and continue prompting the user until a valid quantity is entered.\n",
    "\n",
    "```python\n",
    "# Step 1: Define the function for initializing the inventory with error handling\n",
    "def initialize_inventory(products):\n",
    "    inventory = {}\n",
    "    for product in products:\n",
    "        valid_quantity = False\n",
    "        while not valid_quantity:\n",
    "            try:\n",
    "                quantity = int(input(f\"Enter the quantity of {product}s available: \"))\n",
    "                if quantity < 0:\n",
    "                    raise ValueError(\"Invalid quantity! Please enter a non-negative value.\")\n",
    "                valid_quantity = True\n",
    "            except ValueError as error:\n",
    "                print(f\"Error: {error}\")\n",
    "        inventory[product] = quantity\n",
    "    return inventory\n",
    "\n",
    "# Or, in another way:\n",
    "\n",
    "def initialize_inventory(products):\n",
    "    inventory = {}\n",
    "    for product in products:\n",
    "        valid_input = False\n",
    "        while not valid_input:\n",
    "            try:\n",
    "                quantity = int(input(f\"Enter the quantity of {product}s available: \"))\n",
    "                if quantity >= 0:\n",
    "                    inventory[product] = quantity\n",
    "                    valid_input = True\n",
    "                else:\n",
    "                    print(\"Quantity cannot be negative. Please enter a valid quantity.\")\n",
    "            except ValueError:\n",
    "                print(\"Invalid input. Please enter a valid quantity.\")\n",
    "    return inventory\n",
    "```\n",
    "\n",
    "Let's enhance your code by implementing error handling to handle invalid inputs.\n",
    "\n",
    "Follow the steps below to complete the exercise:\n",
    "\n",
    "2. Modify the `calculate_total_price` function to include error handling.\n",
    "   - If the user enters an invalid price (e.g., a negative value or a non-numeric value), display an error message and ask them to re-enter the price for that product.\n",
    "   - Use a try-except block to handle the error and continue prompting the user until a valid price is entered.\n",
    "\n",
    "3. Modify the `get_customer_orders` function to include error handling.\n",
    "   - If the user enters an invalid number of orders (e.g., a negative value or a non-numeric value), display an error message and ask them to re-enter the number of orders.\n",
    "   - If the user enters an invalid product name (e.g., a product name that is not in the inventory), or that doesn't have stock available, display an error message and ask them to re-enter the product name. *Hint: you will need to pass inventory as a parameter*\n",
    "   - Use a try-except block to handle the error and continue prompting the user until a valid product name is entered.\n",
    "\n",
    "4. Test your code by running the program and deliberately entering invalid quantities and product names. Make sure the error handling mechanism works as expected.\n"
   ]
  },
  {
   "cell_type": "code",
   "execution_count": 7,
   "id": "56fb7bdb",
   "metadata": {},
   "outputs": [],
   "source": [
    "#1. Review your code from the previous exercise and identify areas where you can apply comprehension to simplify and streamline your code. \n",
    "products = [\"t-shirt\", \"mug\", \"hat\", \"book\", \"keychain\"]\n",
    "def initialize_inventory(products):\n",
    "    inventory = {}\n",
    "    for product in products:\n",
    "        valid_input = False\n",
    "        while not valid_input:\n",
    "            try:\n",
    "                quantity = int(input(f\"Enter the quantity of {product}s available: \"))\n",
    "                if quantity >= 0:\n",
    "                    inventory[product] = quantity\n",
    "                    valid_input = True\n",
    "                else:\n",
    "                    print(\"Quantity cannot be negative. Please enter a valid quantity.\")\n",
    "            except ValueError:\n",
    "                print(\"Invalid input. Please enter a valid quantity.\")\n",
    "    return inventory\n",
    "#inventory = initialize_inventory(products)"
   ]
  },
  {
   "cell_type": "code",
   "execution_count": 8,
   "id": "290e2f0e",
   "metadata": {},
   "outputs": [],
   "source": [
    "def product_quantity():\n",
    "    products_quantity = 0\n",
    "    while True:\n",
    "        try:\n",
    "            products_quantity = int(input(\"How many products would you like to order? \"))\n",
    "            if products_quantity <= 0:\n",
    "                raise ValueError(\"Invalid quantity. Please enter a positive integer.\")\n",
    "            elif products_quantity > 5:\n",
    "                raise ValueError(\"Please enter a number between 1 to 5\")\n",
    "            return products_quantity\n",
    "        \n",
    "        except ValueError as error:\n",
    "            print(f\"Error: {error}. Please enter a valid number.\")\n",
    "#num_products = product_quantity()\n",
    "#print(num_products)"
   ]
  },
  {
   "cell_type": "code",
   "execution_count": 9,
   "id": "f2f7cc19",
   "metadata": {},
   "outputs": [],
   "source": [
    "def get_customer_orders(num_products):\n",
    "    customer_order = set()\n",
    "    while len(customer_order) < num_products:\n",
    "        for product in range(num_products):\n",
    "            order_product = input(\"Which product would you like to order?\").lower().strip()\n",
    "            if order_product not in products:\n",
    "                print(\"Product not available, try another\")\n",
    "            elif order_product in customer_order:\n",
    "                print(\"Product already order, try another\")\n",
    "            else:\n",
    "                customer_order.add(order_product)  \n",
    "    return customer_order\n",
    "\n",
    "#products_ordered = get_customer_orders(num_products)"
   ]
  },
  {
   "cell_type": "code",
   "execution_count": 10,
   "id": "a6d135a4",
   "metadata": {},
   "outputs": [],
   "source": [
    "#2. Modify the `calculate_total_price` function to include error handling.\n",
    "#  - If the user enters an invalid price (e.g., a negative value or a non-\n",
    "# numeric value), display an error message and ask them to re-enter the price\n",
    "#  for that product.\n",
    "#  - Use a try-except block to handle the error and continue prompting the \n",
    "# user until a valid price is entered.\n",
    "\n",
    "def calculate_total_price():\n",
    "    \n",
    "    prices = {i : int(input('Price of product '+i+':')) for i in products_ordered}\n",
    "    for key, value in prices.items():\n",
    "        print(f'Enter the price of {key}: {value}')\n",
    "    total = sum(prices.values())\n",
    "    return f\"Total: {total}\"\n",
    "\n",
    "#total_prices = calculate_total_price()"
   ]
  },
  {
   "cell_type": "code",
   "execution_count": 11,
   "id": "b1e81b77",
   "metadata": {},
   "outputs": [],
   "source": [
    "def update_inventory(products_ordered, inventory):\n",
    "    for product in products_ordered:\n",
    "        inventory[product]-=1\n",
    "    return {key: value for key, value in inventory.items() if value > 0}\n",
    "\n",
    "#updated_inventory = update_inventory(products_ordered, inventory)\n",
    "#print(updated_inventory)"
   ]
  },
  {
   "cell_type": "code",
   "execution_count": 12,
   "id": "cd92e326",
   "metadata": {},
   "outputs": [],
   "source": [
    "def calculate_order_statistics(customer_orders, inventory):\n",
    "    #los productos ordenados solo puedes tener uno de cada\n",
    "    total_products_ordered = int(len(customer_orders))\n",
    "    #declaro en cero el total de todos los productos\n",
    "    total_products_amount = 0\n",
    "    #leo products como clave : valor\n",
    "    for product, amount in inventory.items():\n",
    "        #sumo solo los valores sin importar el producto\n",
    "        total_products_amount += int(amount)\n",
    "    #porcentaje una regla de 3\n",
    "    percentage_ordered = (total_products_ordered/total_products_amount)*100\n",
    "    #total de productos y el porcentaje\n",
    "    return (total_products_amount, percentage_ordered, total_products_ordered)"
   ]
  },
  {
   "cell_type": "code",
   "execution_count": 13,
   "id": "fe4eaf7e",
   "metadata": {},
   "outputs": [],
   "source": [
    "def print_order_statistics(order_statistics):\n",
    "    print(\"Order Statistics:\")\n",
    "    print(\"Total products: \" + str(order_statistics[0]))\n",
    "    print(\"Total products ordered: \" + str(order_statistics[2]))\n",
    "    print(\"Percentage of Products Ordered:: \" + str(round(order_statistics[1],2)) + \"%\")  "
   ]
  },
  {
   "cell_type": "code",
   "execution_count": 14,
   "id": "46de0270",
   "metadata": {},
   "outputs": [],
   "source": [
    "def print_updated_inventory(inventory):\n",
    "      {print(f\"{product}:{amount}\") for product, amount in inventory.items()}"
   ]
  },
  {
   "cell_type": "code",
   "execution_count": 16,
   "id": "6f8c5eaf",
   "metadata": {},
   "outputs": [
    {
     "name": "stdout",
     "output_type": "stream",
     "text": [
      "{'t-shirt': 4, 'mug': 4, 'hat': 4, 'book': 4, 'keychain': 4}\n",
      "You order contains 2 products\n",
      "Product already order, try another\n",
      "Product already order, try another\n",
      "Products order:'{'book', 'hat'}\n",
      "Enter the price of book: 23\n",
      "Enter the price of hat: 32\n",
      "Total: 55\n",
      "t-shirt:4\n",
      "mug:4\n",
      "hat:3\n",
      "book:3\n",
      "keychain:4\n",
      "Order Statistics:\n",
      "Total products: 18\n",
      "Total products ordered: 2\n",
      "Percentage of Products Ordered:: 11.11%\n"
     ]
    }
   ],
   "source": [
    "inventory = initialize_inventory(products)\n",
    "print(inventory)\n",
    "num_products = product_quantity()\n",
    "print(f\"You order contains {num_products} products\")\n",
    "products_ordered = get_customer_orders(num_products)\n",
    "print(f\"Products order:'{products_ordered}\")\n",
    "total_prices = calculate_total_price()\n",
    "print(total_prices)\n",
    "updated_inventory = update_inventory(products_ordered, inventory)\n",
    "print_updated_inventory(updated_inventory)\n",
    "order_statistics = calculate_order_statistics(products_ordered, inventory)\n",
    "print_order_statistics(order_statistics)"
   ]
  },
  {
   "cell_type": "code",
   "execution_count": null,
   "id": "8f52a6d1",
   "metadata": {},
   "outputs": [],
   "source": []
  }
 ],
 "metadata": {
  "kernelspec": {
   "display_name": "Python 3 (ipykernel)",
   "language": "python",
   "name": "python3"
  },
  "language_info": {
   "codemirror_mode": {
    "name": "ipython",
    "version": 3
   },
   "file_extension": ".py",
   "mimetype": "text/x-python",
   "name": "python",
   "nbconvert_exporter": "python",
   "pygments_lexer": "ipython3",
   "version": "3.11.7"
  }
 },
 "nbformat": 4,
 "nbformat_minor": 5
}
